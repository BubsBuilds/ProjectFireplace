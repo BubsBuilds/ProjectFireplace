{
 "cells": [
  {
   "cell_type": "code",
   "execution_count": 1,
   "id": "initial_id",
   "metadata": {
    "collapsed": true,
    "ExecuteTime": {
     "end_time": "2023-08-16T06:38:08.957320600Z",
     "start_time": "2023-08-16T06:38:08.931526200Z"
    }
   },
   "outputs": [],
   "source": [
    "import serial\n",
    "import time\n",
    "import json\n",
    "\n",
    "class ArduinoComm:\n",
    "    def __init__(self, port, baudrate=9600):\n",
    "        self.ser = serial.Serial(port, baudrate)\n",
    "        time.sleep(2)  # Give some time for the connection to be established\n",
    "\n",
    "    def send(self, command, data=None):\n",
    "        msg = {\"command\": command, \"data\": data}\n",
    "        encoded_msg = json.dumps(msg).encode()\n",
    "        self.ser.write(encoded_msg)\n",
    "        return self.receive_response()\n",
    "\n",
    "    def receive_response(self):\n",
    "        raw_data = self.ser.readline().decode().strip()\n",
    "        response = json.loads(raw_data)\n",
    "        return response\n",
    "\n",
    "    def close(self):\n",
    "        self.ser.close()\n",
    "        "
   ]
  },
  {
   "cell_type": "code",
   "execution_count": 2,
   "outputs": [],
   "source": [
    "dataMaker = ArduinoComm(\"COM5\")"
   ],
   "metadata": {
    "collapsed": false,
    "ExecuteTime": {
     "end_time": "2023-08-16T06:38:13.956504300Z",
     "start_time": "2023-08-16T06:38:11.921431900Z"
    }
   },
   "id": "68387c141bece6a6"
  },
  {
   "cell_type": "code",
   "execution_count": 4,
   "outputs": [
    {
     "name": "stdout",
     "output_type": "stream",
     "text": [
      "{'therm1': 579, 'therm2': 538, 'soil1a': 200, 'soil1b': 292, 'soil2a': 251, 'soil2b': 566}\n"
     ]
    }
   ],
   "source": [
    "response = dataMaker.send(command=\"getAll\", data=None)\n",
    "print(response)  # Should print the time (or an error if there's one)"
   ],
   "metadata": {
    "collapsed": false,
    "ExecuteTime": {
     "end_time": "2023-08-16T06:08:00.355826300Z",
     "start_time": "2023-08-16T06:07:59.010215800Z"
    }
   },
   "id": "6dd30e802c4030e6"
  },
  {
   "cell_type": "code",
   "execution_count": 3,
   "outputs": [],
   "source": [
    "from pymongo import MongoClient\n",
    "\n",
    "class MongoDBManager:\n",
    "\n",
    "    def __init__(self, host='DESKTOP-M8400H1', port=27017, db_name='pf'):\n",
    "        # Initialize MongoDB client\n",
    "        self.client = MongoClient(host, port)\n",
    "        self.db = self.client[db_name]\n",
    "\n",
    "    def insert_one(self, collection_name, data):\n",
    "        \"\"\"Insert one record into a MongoDB collection.\"\"\"\n",
    "        collection = self.db[collection_name]\n",
    "        collection.insert_one(data)\n",
    "\n",
    "    def insert_many(self, collection_name, data_list):\n",
    "        \"\"\"Insert multiple records into a MongoDB collection.\"\"\"\n",
    "        collection = self.db[collection_name]\n",
    "        collection.insert_many(data_list)\n",
    "\n",
    "    def find(self, collection_name, query=None, projection=None):\n",
    "        \"\"\"Query data from a MongoDB collection.\"\"\"\n",
    "        collection = self.db[collection_name]\n",
    "        return collection.find(query, projection)\n",
    "\n",
    "    def update_one(self, collection_name, filter_query, update_data):\n",
    "        \"\"\"Update one record in a MongoDB collection.\"\"\"\n",
    "        collection = self.db[collection_name]\n",
    "        collection.update_one(filter_query, {'$set': update_data})\n",
    "\n",
    "    def delete_one(self, collection_name, query):\n",
    "        \"\"\"Delete one record from a MongoDB collection.\"\"\"\n",
    "        collection = self.db[collection_name]\n",
    "        collection.delete_one(query)\n",
    "\n",
    "    def close(self):\n",
    "        \"\"\"Close MongoDB connection.\"\"\"\n",
    "        self.client.close()"
   ],
   "metadata": {
    "collapsed": false,
    "ExecuteTime": {
     "end_time": "2023-08-16T06:38:20.923048600Z",
     "start_time": "2023-08-16T06:38:20.740500400Z"
    }
   },
   "id": "ec53301f56081a2e"
  },
  {
   "cell_type": "code",
   "execution_count": 4,
   "outputs": [],
   "source": [
    "mongoSesh = MongoDBManager()"
   ],
   "metadata": {
    "collapsed": false,
    "ExecuteTime": {
     "end_time": "2023-08-16T06:38:33.968789300Z",
     "start_time": "2023-08-16T06:38:33.942157500Z"
    }
   },
   "id": "7fca0aa3c587095c"
  },
  {
   "cell_type": "code",
   "execution_count": null,
   "outputs": [],
   "source": [
    "while True:\n",
    "    response = dataMaker.send(command=\"getAll\", data=None)\n",
    "    response[\"TS\"] = time.time()\n",
    "    mongoSesh.insert_one(\"dataMaker\", response)\n",
    "    time.sleep(1)"
   ],
   "metadata": {
    "collapsed": false,
    "is_executing": true,
    "ExecuteTime": {
     "start_time": "2023-08-16T06:38:36.606759300Z"
    }
   },
   "id": "9e6fef7492e3c180"
  },
  {
   "cell_type": "code",
   "execution_count": null,
   "outputs": [],
   "source": [],
   "metadata": {
    "collapsed": false
   },
   "id": "68d5f15b65541262"
  }
 ],
 "metadata": {
  "kernelspec": {
   "display_name": "Python 3",
   "language": "python",
   "name": "python3"
  },
  "language_info": {
   "codemirror_mode": {
    "name": "ipython",
    "version": 2
   },
   "file_extension": ".py",
   "mimetype": "text/x-python",
   "name": "python",
   "nbconvert_exporter": "python",
   "pygments_lexer": "ipython2",
   "version": "2.7.6"
  }
 },
 "nbformat": 4,
 "nbformat_minor": 5
}
